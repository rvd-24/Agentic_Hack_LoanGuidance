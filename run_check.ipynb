{
 "cells": [
  {
   "cell_type": "code",
   "execution_count": 1,
   "metadata": {},
   "outputs": [],
   "source": [
    "import os\n",
    "from dotenv import load_dotenv, find_dotenv\n",
    "from openai import OpenAI\n",
    "from langchain_openai import ChatOpenAI, OpenAIEmbeddings\n",
    "\n",
    "load_dotenv(find_dotenv())\n",
    "\n",
    "api_key = os.environ.get(\"OPENAI_API_KEY\")\n",
    "\n",
    "llm = ChatOpenAI(model = \"gpt-4o\",api_key = api_key)\n",
    "embeddings = OpenAIEmbeddings(model = \"text-embedding-ada-002\",api_key=api_key)"
   ]
  },
  {
   "cell_type": "code",
   "execution_count": 2,
   "metadata": {},
   "outputs": [
    {
     "data": {
      "text/plain": [
       "AIMessage(content='Hello! How can I assist you today?', additional_kwargs={'refusal': None}, response_metadata={'token_usage': {'completion_tokens': 10, 'prompt_tokens': 8, 'total_tokens': 18, 'completion_tokens_details': {'accepted_prediction_tokens': 0, 'audio_tokens': 0, 'reasoning_tokens': 0, 'rejected_prediction_tokens': 0}, 'prompt_tokens_details': {'audio_tokens': 0, 'cached_tokens': 0}}, 'model_name': 'gpt-4o-2024-08-06', 'system_fingerprint': 'fp_eb9dce56a8', 'finish_reason': 'stop', 'logprobs': None}, id='run-8d6e7107-9d8f-46cc-bf3c-ddc805b56646-0', usage_metadata={'input_tokens': 8, 'output_tokens': 10, 'total_tokens': 18, 'input_token_details': {'audio': 0, 'cache_read': 0}, 'output_token_details': {'audio': 0, 'reasoning': 0}})"
      ]
     },
     "execution_count": 2,
     "metadata": {},
     "output_type": "execute_result"
    }
   ],
   "source": [
    "llm.invoke(\"Hi\")"
   ]
  },
  {
   "cell_type": "code",
   "execution_count": 23,
   "metadata": {},
   "outputs": [],
   "source": [
    "from typing import Annotated, Dict\n",
    "from typing_extensions import TypedDict,List,Optional\n",
    "from pydantic import BaseModel, Field\n",
    "# from langchain_core.pydantic_v1 import BaseModel, Field\n",
    "from langgraph.graph import StateGraph,START,END\n",
    "from langgraph.graph.message import add_messages\n",
    "from langchain_core.prompts import ChatPromptTemplate\n",
    "from langchain_core.messages import ToolMessage, AIMessage\n",
    "import os\n",
    "import pandas as pd\n",
    "import numpy as np\n",
    "import joblib"
   ]
  },
  {
   "cell_type": "code",
   "execution_count": 12,
   "metadata": {},
   "outputs": [],
   "source": [
    "class LoanParameters(BaseModel):\n",
    "    Gender: str\n",
    "    Married: str\n",
    "    Dependents: str\n",
    "    Education: str\n",
    "    Self_Employed: str\n",
    "    LoanAmount: float\n",
    "    Loan_Amount_Term: float\n",
    "    Credit_History: float\n",
    "    Property_Area: str\n",
    "    TotalIncome: float\n",
    "\n",
    "class AgentState(BaseModel):\n",
    "    user_query: str\n",
    "    messages: List = Field(default_factory=list)\n",
    "    task_type: Optional[str] = None\n",
    "    loan_parameters: Optional[LoanParameters] = None\n",
    "    eligibility_result: Optional[str] = None\n",
    "    form_submitted: bool = False\n",
    "\n",
    "class QueryOutput(BaseModel):\n",
    "    \"\"\"Inputs to the Loan Guidance Tool\"\"\"\n",
    "    task_type: str = Field(description = \"Type of task to perform based on user_query\")"
   ]
  },
  {
   "cell_type": "code",
   "execution_count": 13,
   "metadata": {},
   "outputs": [],
   "source": [
    "def process_user_query(state: AgentState):\n",
    "    print(\"Processing User Query\")\n",
    "    ASSISTANT_PROMPT = \"\"\"\n",
    "        You are an expert in managing Loan applications for users and resolving queries of users regarding the same. You are provided with a user_query\n",
    "        and your task is to go through the query and return the type of task that user wants.\n",
    "        <Instructions>\n",
    "            1. Go through the user_query and extract all the relevant key details from the query.\n",
    "            2. There are three kinds of tasks that can be performed from the query:\n",
    "                a. 'Loan Eligibility Check' - User would like to check if he/she is eligible for loan.\n",
    "                b. 'Loan Application Guidance' - User is looking for guidance on how to proceed with his/her Loan Application.\n",
    "                c. 'Financial Advise' - User is looking for personalized financial advise based on his/her needs.\n",
    "            3. Only Output the type of task that user wants and no need for any explanation.\n",
    "        </Instructions>\n",
    "\n",
    "        <Input>Query:{query}</Input>\n",
    "    \"\"\"\n",
    "    prompt = ChatPromptTemplate.from_template(ASSISTANT_PROMPT)\n",
    "    user_chain = prompt | llm.with_structured_output(QueryOutput)\n",
    "    data = user_chain.invoke({\"query\": state.user_query})\n",
    "    print(f\"Detected task type: {data.task_type}\")\n",
    "    \n",
    "    # Add an AI message to the conversation\n",
    "    new_message = AIMessage(content=f\"Based on your query, I understand you need: {data.task_type}. Let's proceed with that.\")\n",
    "    state.messages.append(new_message)\n",
    "    \n",
    "    # Update state\n",
    "    state.task_type = data.task_type\n",
    "    \n",
    "    # If this is an eligibility check, inform the user about the form\n",
    "    if state.task_type == \"Loan Eligibility Check\":\n",
    "        form_message = AIMessage(content=\"To check your loan eligibility, please fill out the loan application form with all the required information.\")\n",
    "        state.messages.append(form_message)\n",
    "    \n",
    "    return state"
   ]
  },
  {
   "cell_type": "code",
   "execution_count": 14,
   "metadata": {},
   "outputs": [],
   "source": [
    "def process_form_submission(state: AgentState):\n",
    "    print(\"Processing form submission\")\n",
    "    \n",
    "    # In a real application, we'd get this from a form submission\n",
    "    # For now, we'll use a sample dict\n",
    "    sample_form_data = {\n",
    "        'Gender': 'Male',\n",
    "        'Married': 'Yes',\n",
    "        'Dependents': '1',\n",
    "        'Education': 'Graduate',\n",
    "        'Self_Employed': 'No',\n",
    "        'LoanAmount': 250000.0,\n",
    "        'Loan_Amount_Term': 360.0,\n",
    "        'Credit_History': 1.0,\n",
    "        'Property_Area': 'Urban',\n",
    "        'TotalIncome': 60000.0\n",
    "    }\n",
    "    \n",
    "    # Create LoanParameters object from form data\n",
    "    state.loan_parameters = LoanParameters(**sample_form_data)\n",
    "    state.form_submitted = True\n",
    "    \n",
    "    # Add a confirmation message\n",
    "    confirm_message = AIMessage(content=\"Thank you for submitting your information. I'll now check your loan eligibility.\")\n",
    "    state.messages.append(confirm_message)\n",
    "    \n",
    "    return state\n"
   ]
  },
  {
   "cell_type": "code",
   "execution_count": 26,
   "metadata": {},
   "outputs": [],
   "source": [
    "def predict_loan_eligibility(state: AgentState):\n",
    "    print(\"Predicting loan eligibility\")\n",
    "    \n",
    "    # Convert parameters to the format needed for prediction\n",
    "    expected_features = ['Gender', 'Married', 'Dependents', 'Education', 'Self_Employed', \n",
    "                         'LoanAmount', 'Loan_Amount_Term', 'Credit_History', 'Property_Area', 'TotalIncome']\n",
    "    \n",
    "    # Prepare input for the model\n",
    "    sample_input = state.loan_parameters.model_dump()\n",
    "    \n",
    "    # Convert to DataFrame\n",
    "    user_df = pd.DataFrame([sample_input])\n",
    "    print(user_df)\n",
    "    # Reorder columns to match training data\n",
    "    user_df = user_df[expected_features]\n",
    "    \n",
    "    try:\n",
    "        # Load category mappings and encode categorical features\n",
    "        category_mappings = joblib.load('category_mappings.pkl')\n",
    "        for col, mapping in category_mappings.items():\n",
    "            if col in user_df.columns:\n",
    "                user_df[col] = user_df[col].map(mapping).fillna(-1)  # Assign -1 for unseen values\n",
    "        \n",
    "        # Load scaler and transform input\n",
    "        loaded_scaler = joblib.load('scaler.pkl')\n",
    "        user_scaled = loaded_scaler.transform(user_df)\n",
    "        \n",
    "        # Load Model & Predict\n",
    "        loaded_model = joblib.load('best_loan_model.pkl')\n",
    "        prediction = loaded_model.predict(user_scaled)\n",
    "        \n",
    "        result = 'Eligible' if prediction[0] == 1 else 'Not Eligible'\n",
    "        \n",
    "        # Update state with prediction result\n",
    "        state.eligibility_result = result\n",
    "        \n",
    "    except Exception as e:\n",
    "        # Handle any errors in prediction\n",
    "        print(f\"Error during prediction: {e}\")\n",
    "        state.eligibility_result = \"Error during prediction\"\n",
    "    \n",
    "    # Create response message\n",
    "    response_message = None\n",
    "    if state.eligibility_result == 'Eligible':\n",
    "        response_message = AIMessage(content=f\"\"\"\n",
    "Congratulations! Based on the information you've provided, you are eligible for the loan. \n",
    "\n",
    "Here's a summary of your application:\n",
    "- Loan Amount: ${state.loan_parameters.LoanAmount:,.2f}\n",
    "- Loan Term: {int(state.loan_parameters.Loan_Amount_Term)} months\n",
    "- Credit History: {'Good' if state.loan_parameters.Credit_History == 1.0 else 'Limited'}\n",
    "- Total Income: ${state.loan_parameters.TotalIncome:,.2f}\n",
    "\n",
    "Would you like guidance on how to proceed with your application?\n",
    "        \"\"\")\n",
    "    elif state.eligibility_result == 'Not Eligible':\n",
    "        response_message = AIMessage(content=f\"\"\"\n",
    "Based on the information you've provided, you may not be eligible for the loan under our standard criteria.\n",
    "\n",
    "Here are some factors that may have affected your eligibility:\n",
    "- Loan amount too high relative to income\n",
    "- Credit history concerns\n",
    "- Loan term duration\n",
    "- Employment status\n",
    "\n",
    "Would you like to discuss alternatives or ways to improve your eligibility?\n",
    "        \"\"\")\n",
    "    else:\n",
    "        response_message = AIMessage(content=f\"I encountered an issue while processing your eligibility. Please try submitting the form again or contact our support team for assistance.\")\n",
    "    \n",
    "    state.messages.append(response_message)\n",
    "    \n",
    "    return state"
   ]
  },
  {
   "cell_type": "code",
   "execution_count": 27,
   "metadata": {},
   "outputs": [],
   "source": [
    "# Function for loan application guidance\n",
    "def loan_application_guidance(state: AgentState):\n",
    "    print(\"Providing loan application guidance\")\n",
    "    \n",
    "    guidance_prompt = \"\"\"\n",
    "        Provide clear, step-by-step guidance on how to proceed with a loan application. \n",
    "        Include information on required documents, typical processes, and best practices.\n",
    "        \n",
    "        <UserQuery>{query}</UserQuery>\n",
    "    \"\"\"\n",
    "    \n",
    "    prompt = ChatPromptTemplate.from_template(guidance_prompt)\n",
    "    guidance = llm.invoke(prompt.invoke({\"query\": state.user_query})).content\n",
    "    \n",
    "    guidance_message = AIMessage(content=guidance)\n",
    "    state.messages.append(guidance_message)\n",
    "    \n",
    "    return state\n",
    "\n",
    "# Function for financial advice\n",
    "def financial_advice(state: AgentState):\n",
    "    print(\"Providing financial advice\")\n",
    "    \n",
    "    advice_prompt = \"\"\"\n",
    "        Provide personalized financial advice based on the user's query. \n",
    "        Focus on practical, actionable steps they can take.\n",
    "        \n",
    "        <UserQuery>{query}</UserQuery>\n",
    "    \"\"\"\n",
    "    \n",
    "    prompt = ChatPromptTemplate.from_template(advice_prompt)\n",
    "    advice = llm.invoke(prompt.invoke({\"query\": state.user_query})).content\n",
    "    \n",
    "    advice_message = AIMessage(content=advice)\n",
    "    state.messages.append(advice_message)\n",
    "    \n",
    "    return state\n"
   ]
  },
  {
   "cell_type": "code",
   "execution_count": 28,
   "metadata": {},
   "outputs": [],
   "source": [
    "# graph_builder = StateGraph(AgentState)\n",
    "# #Nodes\n",
    "# graph_builder.add_node(\"process_user_query\",process_user_query)\n",
    "# #Edges\n",
    "# graph_builder.add_edge(START,\"process_user_query\")\n",
    "# graph_builder.add_edge(\"process_user_query\",END)\n",
    "# graph = graph_builder.compile()\n",
    "\n",
    "def create_loan_agent_graph():\n",
    "    # Create graph builder\n",
    "    graph_builder = StateGraph(AgentState)\n",
    "    \n",
    "    # Add nodes\n",
    "    graph_builder.add_node(\"process_user_query\", process_user_query)\n",
    "    graph_builder.add_node(\"process_form\", process_form_submission)\n",
    "    graph_builder.add_node(\"eligibility_check\", predict_loan_eligibility)\n",
    "    graph_builder.add_node(\"loan_guidance\", loan_application_guidance)\n",
    "    graph_builder.add_node(\"financial_advice\", financial_advice)\n",
    "    \n",
    "    # Define conditional routing based on task type\n",
    "    def route_by_task(state: AgentState):\n",
    "        if state.task_type == \"Loan Eligibility Check\":\n",
    "            return \"process_form\"\n",
    "        elif state.task_type == \"Loan Application Guidance\":\n",
    "            return \"loan_guidance\"\n",
    "        elif state.task_type == \"Financial Advise\":\n",
    "            return \"financial_advice\"\n",
    "        else:\n",
    "            # Default fallback\n",
    "            return \"loan_guidance\"\n",
    "    \n",
    "    # Add edges\n",
    "    graph_builder.add_edge(START, \"process_user_query\")\n",
    "    graph_builder.add_conditional_edges(\n",
    "        \"process_user_query\",\n",
    "        route_by_task,\n",
    "        {\n",
    "            \"process_form\": \"process_form\",\n",
    "            \"loan_guidance\": \"loan_guidance\",\n",
    "            \"financial_advice\": \"financial_advice\"\n",
    "        }\n",
    "    )\n",
    "    \n",
    "    # Eligibility check path\n",
    "    graph_builder.add_edge(\"process_form\", \"eligibility_check\")\n",
    "    \n",
    "    # Final nodes to END\n",
    "    graph_builder.add_edge(\"eligibility_check\", END)\n",
    "    graph_builder.add_edge(\"loan_guidance\", END)\n",
    "    graph_builder.add_edge(\"financial_advice\", END)\n",
    "    \n",
    "    # Compile the graph\n",
    "    return graph_builder.compile()"
   ]
  },
  {
   "cell_type": "code",
   "execution_count": 29,
   "metadata": {},
   "outputs": [],
   "source": [
    "loan_agent_graph = create_loan_agent_graph()"
   ]
  },
  {
   "cell_type": "code",
   "execution_count": 30,
   "metadata": {},
   "outputs": [
    {
     "data": {
      "image/png": "[encoded data removed]",
      "text/plain": [
       "<IPython.core.display.Image object>"
      ]
     },
     "metadata": {},
     "output_type": "display_data"
    }
   ],
   "source": [
    "from IPython.display import Image, display\n",
    "\n",
    "try:\n",
    "    display(Image(loan_agent_graph.get_graph().draw_mermaid_png()))\n",
    "except Exception:\n",
    "    # This requires some extra dependencies and is optional\n",
    "    pass"
   ]
  },
  {
   "cell_type": "code",
   "execution_count": 31,
   "metadata": {},
   "outputs": [
    {
     "name": "stdout",
     "output_type": "stream",
     "text": [
      "Processing User Query\n",
      "Detected task type: Loan Eligibility Check\n",
      "Processing form submission\n",
      "Predicting loan eligibility\n",
      "  Gender Married Dependents Education Self_Employed  LoanAmount  \\\n",
      "0   Male     Yes          1  Graduate            No    250000.0   \n",
      "\n",
      "   Loan_Amount_Term  Credit_History Property_Area  TotalIncome  \n",
      "0             360.0             1.0         Urban      60000.0  \n"
     ]
    }
   ],
   "source": [
    "config = {\"configurable\": {\"thread_id\":1}}\n",
    "result = loan_agent_graph.invoke({\"user_query\":\"I earn $60,000 annually with a credit score of 710. Would I qualify for a home loan of $250,000?\"},config)"
   ]
  },
  {
   "cell_type": "code",
   "execution_count": 32,
   "metadata": {},
   "outputs": [
    {
     "data": {
      "text/plain": [
       "{'user_query': 'I earn $60,000 annually with a credit score of 710. Would I qualify for a home loan of $250,000?',\n",
       " 'task_type': 'Loan Eligibility Check',\n",
       " 'loan_parameters': LoanParameters(Gender='Male', Married='Yes', Dependents='1', Education='Graduate', Self_Employed='No', LoanAmount=250000.0, Loan_Amount_Term=360.0, Credit_History=1.0, Property_Area='Urban', TotalIncome=60000.0),\n",
       " 'eligibility_result': 'Not Eligible',\n",
       " 'form_submitted': True}"
      ]
     },
     "execution_count": 32,
     "metadata": {},
     "output_type": "execute_result"
    }
   ],
   "source": [
    "result"
   ]
  },
  {
   "cell_type": "code",
   "execution_count": null,
   "metadata": {},
   "outputs": [],
   "source": []
  },
  {
   "cell_type": "code",
   "execution_count": null,
   "metadata": {},
   "outputs": [],
   "source": []
  },
  {
   "cell_type": "code",
   "execution_count": 9,
   "metadata": {},
   "outputs": [
    {
     "name": "stdout",
     "output_type": "stream",
     "text": [
      "Processing User Query\n",
      "task_type='Loan Eligibility Check'\n"
     ]
    }
   ],
   "source": [
    "result = graph.invoke(\n",
    "    {\n",
    "    \"user_query\":\"I've been working as a contractor in the software industry for the past 3 years with an average annual income of $85,000, though it fluctuates month to month. My credit score is around 720, and I have about $18,000 in student loan debt that I'm still paying off. I'm looking to buy a condo in the $350,000 range in Seattle, and I've saved up $40,000 for a down payment. Given my inconsistent income as a contractor and existing debt, would a bank consider me for a mortgage?\"\n",
    "    },\n",
    "    config\n",
    ")"
   ]
  },
  {
   "cell_type": "code",
   "execution_count": 10,
   "metadata": {},
   "outputs": [
    {
     "name": "stdout",
     "output_type": "stream",
     "text": [
      "Processing User Query\n",
      "task_type='Loan Application Guidance'\n"
     ]
    }
   ],
   "source": [
    "result = graph.invoke(\n",
    "    {\n",
    "    \"user_query\":\"I started an auto loan application online but couldn't finish because I didn't have all the required documents. The system says my application will expire in 3 days. I'm still waiting on proof of insurance for the vehicle I want to purchase, and the dealership hasn't provided the final purchase agreement yet. Is there a way to extend my application time frame? And if I have to restart, will the credit check you already performed still be valid, or will you need to run another one that might further affect my credit score? I'm also wondering if I can change the loan term from 60 months to 48 months at this point without starting over.\"\n",
    "    },\n",
    "    config\n",
    ")"
   ]
  },
  {
   "cell_type": "code",
   "execution_count": null,
   "metadata": {},
   "outputs": [],
   "source": []
  }
 ],
 "metadata": {
  "kernelspec": {
   "display_name": ".venv",
   "language": "python",
   "name": "python3"
  },
  "language_info": {
   "codemirror_mode": {
    "name": "ipython",
    "version": 3
   },
   "file_extension": ".py",
   "mimetype": "text/x-python",
   "name": "python",
   "nbconvert_exporter": "python",
   "pygments_lexer": "ipython3",
   "version": "3.11.1"
  }
 },
 "nbformat": 4,
 "nbformat_minor": 2
}
