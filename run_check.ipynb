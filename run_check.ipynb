{
 "cells": [
  {
   "cell_type": "code",
   "execution_count": 2,
   "metadata": {},
   "outputs": [],
   "source": [
    "import os\n",
    "from dotenv import load_dotenv, find_dotenv\n",
    "from openai import OpenAI\n",
    "from langchain_openai import ChatOpenAI, OpenAIEmbeddings\n",
    "\n",
    "load_dotenv(find_dotenv())\n",
    "\n",
    "api_key = os.environ.get(\"OPENAI_API_KEY\")\n",
    "\n",
    "llm = ChatOpenAI(model = \"gpt-4o\",api_key = api_key)\n",
    "embeddings = OpenAIEmbeddings(model = \"text-embedding-ada-002\",api_key=api_key)"
   ]
  },
  {
   "cell_type": "code",
   "execution_count": 3,
   "metadata": {},
   "outputs": [
    {
     "data": {
      "text/plain": [
       "AIMessage(content='Hello! How can I assist you today?', additional_kwargs={'refusal': None}, response_metadata={'token_usage': {'completion_tokens': 10, 'prompt_tokens': 8, 'total_tokens': 18, 'completion_tokens_details': {'accepted_prediction_tokens': 0, 'audio_tokens': 0, 'reasoning_tokens': 0, 'rejected_prediction_tokens': 0}, 'prompt_tokens_details': {'audio_tokens': 0, 'cached_tokens': 0}}, 'model_name': 'gpt-4o-2024-08-06', 'system_fingerprint': 'fp_eb9dce56a8', 'finish_reason': 'stop', 'logprobs': None}, id='run-84e2d48f-f9c9-494c-8ac2-ad3f79d689f9-0', usage_metadata={'input_tokens': 8, 'output_tokens': 10, 'total_tokens': 18, 'input_token_details': {'audio': 0, 'cache_read': 0}, 'output_token_details': {'audio': 0, 'reasoning': 0}})"
      ]
     },
     "execution_count": 3,
     "metadata": {},
     "output_type": "execute_result"
    }
   ],
   "source": [
    "llm.invoke(\"Hi\")"
   ]
  },
  {
   "cell_type": "code",
   "execution_count": 4,
   "metadata": {},
   "outputs": [],
   "source": [
    "from typing import Annotated, Dict, List\n",
    "from typing_extensions import TypedDict,List,Optional\n",
    "from pydantic import BaseModel, Field\n",
    "# from langchain_core.pydantic_v1 import BaseModel, Field\n",
    "from langgraph.graph import StateGraph,START,END\n",
    "from langgraph.graph.message import add_messages\n",
    "from langchain_core.prompts import ChatPromptTemplate\n",
    "from langchain_core.messages import ToolMessage, AIMessage"
   ]
  },
  {
   "cell_type": "code",
   "execution_count": 5,
   "metadata": {},
   "outputs": [],
   "source": [
    "class AgentState(BaseModel):\n",
    "    user_query:str\n",
    "    task_type:Optional[str] = None\n",
    "    loan_eligibility: Optional[bool] = None\n",
    "    loan_documents: Optional[List[str]] = ['']\n",
    "\n",
    "class QueryOutput(BaseModel):\n",
    "    \"\"\"Inputs to the Loan Guidance Tool\"\"\"\n",
    "    task_type: str = Field(description = \"Type of task to perform based on user_query\")"
   ]
  },
  {
   "cell_type": "code",
   "execution_count": 6,
   "metadata": {},
   "outputs": [],
   "source": [
    "def process_user_query(state: AgentState):\n",
    "    print(\"Processing User Query\")\n",
    "    ASSISTANT_PROMPT = \"\"\"\n",
    "        You are an expert in managing Loan applications for users and resolving queries of users regarding the same. You are provided with a user_query\n",
    "        and your task is to go through the query and return the type of task that user wants.\n",
    "        <Instructions>\n",
    "            1. Go through the user_query and extract all the relevant key details from the query.\n",
    "            2. There are three kinds of tasks that can be performed from the query:\n",
    "                a. 'Loan Eligibility Check' - User would like to check if he/she is eligible for loan.\n",
    "                b. 'Loan Application Guidance' - User is looking for guidance on how to proceed with his/her Loan Application.\n",
    "                c. 'Financial Advise' - User is looking for personalized financial advise based on his/her needs.\n",
    "            3. Only Output the type of task that user wants and no need for any explanation.\n",
    "        </Instructions>\n",
    "\n",
    "        <Input>Query:{query}</Input>\n",
    "    \"\"\"\n",
    "    prompt = ChatPromptTemplate.from_template(ASSISTANT_PROMPT)\n",
    "    user_chain = prompt | llm.with_structured_output(QueryOutput)\n",
    "    data = user_chain.invoke({\"query\":state.user_query})\n",
    "    print(data)\n",
    "    return data"
   ]
  },
  {
   "cell_type": "code",
   "execution_count": 7,
   "metadata": {},
   "outputs": [],
   "source": [
    "graph_builder = StateGraph(AgentState)\n",
    "#Nodes\n",
    "graph_builder.add_node(\"process_user_query\",process_user_query)\n",
    "#Edges\n",
    "graph_builder.add_edge(START,\"process_user_query\")\n",
    "graph_builder.add_edge(\"process_user_query\",END)\n",
    "graph = graph_builder.compile()"
   ]
  },
  {
   "cell_type": "code",
   "execution_count": 8,
   "metadata": {},
   "outputs": [
    {
     "data": {
      "image/png": "[encoded data removed]",
      "text/plain": [
       "<IPython.core.display.Image object>"
      ]
     },
     "metadata": {},
     "output_type": "display_data"
    }
   ],
   "source": [
    "from IPython.display import Image, display\n",
    "\n",
    "try:\n",
    "    display(Image(graph.get_graph().draw_mermaid_png()))\n",
    "except Exception:\n",
    "    # This requires some extra dependencies and is optional\n",
    "    pass"
   ]
  },
  {
   "cell_type": "code",
   "execution_count": 9,
   "metadata": {},
   "outputs": [
    {
     "name": "stdout",
     "output_type": "stream",
     "text": [
      "Processing User Query\n",
      "task_type='Loan Eligibility Check'\n"
     ]
    }
   ],
   "source": [
    "config = {\"configurable\": {\"thread_id\":1}}\n",
    "result = graph.invoke({\"user_query\":\"I earn $60,000 annually with a credit score of 710. Would I qualify for a home loan of $250,000?\"},config)"
   ]
  },
  {
   "cell_type": "code",
   "execution_count": 10,
   "metadata": {},
   "outputs": [
    {
     "name": "stdout",
     "output_type": "stream",
     "text": [
      "Processing User Query\n",
      "task_type='Loan Eligibility Check'\n"
     ]
    }
   ],
   "source": [
    "result = graph.invoke(\n",
    "    {\n",
    "    \"user_query\":\"I've been working as a contractor in the software industry for the past 3 years with an average annual income of $85,000, though it fluctuates month to month. My credit score is around 720, and I have about $18,000 in student loan debt that I'm still paying off. I'm looking to buy a condo in the $350,000 range in Seattle, and I've saved up $40,000 for a down payment. Given my inconsistent income as a contractor and existing debt, would a bank consider me for a mortgage?\"\n",
    "    },\n",
    "    config\n",
    ")"
   ]
  },
  {
   "cell_type": "code",
   "execution_count": 11,
   "metadata": {},
   "outputs": [
    {
     "name": "stdout",
     "output_type": "stream",
     "text": [
      "Processing User Query\n",
      "task_type='Loan Application Guidance'\n"
     ]
    }
   ],
   "source": [
    "result = graph.invoke(\n",
    "    {\n",
    "    \"user_query\":\"I started an auto loan application online but couldn't finish because I didn't have all the required documents. The system says my application will expire in 3 days. I'm still waiting on proof of insurance for the vehicle I want to purchase, and the dealership hasn't provided the final purchase agreement yet. Is there a way to extend my application time frame? And if I have to restart, will the credit check you already performed still be valid, or will you need to run another one that might further affect my credit score? I'm also wondering if I can change the loan term from 60 months to 48 months at this point without starting over.\"\n",
    "    },\n",
    "    config\n",
    ")"
   ]
  },
  {
   "cell_type": "markdown",
   "metadata": {},
   "source": [
    "### Loan Application Guidance"
   ]
  },
  {
   "cell_type": "code",
   "execution_count": 12,
   "metadata": {},
   "outputs": [],
   "source": [
    "def eligibility_check(state:AgentState):\n",
    "    pass\n",
    "    return \"\""
   ]
  },
  {
   "cell_type": "code",
   "execution_count": null,
   "metadata": {},
   "outputs": [],
   "source": []
  }
 ],
 "metadata": {
  "kernelspec": {
   "display_name": ".venv",
   "language": "python",
   "name": "python3"
  },
  "language_info": {
   "codemirror_mode": {
    "name": "ipython",
    "version": 3
   },
   "file_extension": ".py",
   "mimetype": "text/x-python",
   "name": "python",
   "nbconvert_exporter": "python",
   "pygments_lexer": "ipython3",
   "version": "3.10.2"
  }
 },
 "nbformat": 4,
 "nbformat_minor": 2
}
